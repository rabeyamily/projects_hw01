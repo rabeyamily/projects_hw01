{
  "nbformat": 4,
  "nbformat_minor": 0,
  "metadata": {
    "colab": {
      "provenance": [],
      "authorship_tag": "ABX9TyOYloHPriaTCH1GcREKmezi",
      "include_colab_link": true
    },
    "kernelspec": {
      "name": "python3",
      "display_name": "Python 3"
    },
    "language_info": {
      "name": "python"
    }
  },
  "cells": [
    {
      "cell_type": "markdown",
      "metadata": {
        "id": "view-in-github",
        "colab_type": "text"
      },
      "source": [
        "<a href=\"https://colab.research.google.com/github/rabeyamily/projects_hw01/blob/main/mily_projects_homework01.ipynb\" target=\"_parent\"><img src=\"https://colab.research.google.com/assets/colab-badge.svg\" alt=\"Open In Colab\"/></a>"
      ]
    },
    {
      "cell_type": "code",
      "execution_count": 23,
      "metadata": {
        "colab": {
          "base_uri": "https://localhost:8080/"
        },
        "id": "4Bd7QUsiwFF9",
        "outputId": "901ae622-37ab-4adc-daaa-d3510b39019e"
      },
      "outputs": [
        {
          "output_type": "stream",
          "name": "stdout",
          "text": [
            "Enter a city name: mumbai\n",
            "\n",
            "==================================================\n",
            "       Weather and Events for Mumbai, India       \n",
            "==================================================\n",
            "\n",
            "Current weather:\n",
            "Temperature: 27°C\n",
            "Conditions: Mist\n",
            "\n",
            "No events found for the next 7 days.\n",
            "\n",
            "Thank you for using the weather-based event recommender.\n"
          ]
        }
      ],
      "source": [
        "from google.colab import userdata\n",
        "import requests\n",
        "import datetime\n",
        "\n",
        "def get_weather(city):\n",
        "\n",
        "    #Fetch weather data for a given city using the WeatherStack API.\n",
        "\n",
        "    api_key = userdata.get(\"weatherstack_API\")\n",
        "    url = f\"http://api.weatherstack.com/current?access_key={api_key}&query={city}\"\n",
        "    try:\n",
        "        response = requests.get(url, timeout=10)\n",
        "        response.raise_for_status()\n",
        "        data = response.json()\n",
        "        if 'current' in data:\n",
        "            return data\n",
        "        else:\n",
        "            print(f\"Error: 'current' data not found in response for {city}.\")\n",
        "            return None\n",
        "    except requests.exceptions.RequestException as e:\n",
        "        print(f\"Error fetching weather data: {e}\")\n",
        "        return None\n",
        "\n",
        "def get_events(city, start_date, end_date):\n",
        "\n",
        "    #Fetch event data for a given city and date range using the Ticketmaster API.\n",
        "\n",
        "    api_key = userdata.get(\"ticketmaster_API\")\n",
        "    url = \"https://app.ticketmaster.com/discovery/v2/events.json\"\n",
        "    params = {\n",
        "        \"apikey\": api_key,\n",
        "        \"city\": city,\n",
        "        \"startDateTime\": start_date,\n",
        "        \"endDateTime\": end_date,\n",
        "        \"size\": 5  # Limit to 5 events\n",
        "    }\n",
        "    try:\n",
        "        response = requests.get(url, params=params, timeout=10)\n",
        "        response.raise_for_status()\n",
        "        return response.json()\n",
        "    except requests.exceptions.RequestException as e:\n",
        "        print(f\"Error fetching events: {e}\")\n",
        "        return None\n",
        "\n",
        "def weather_based_event_recommender(city):\n",
        "\n",
        "    #Recommend events based on current weather conditions for a given city.\n",
        "\n",
        "    # Fetch weather data\n",
        "    weather_data = get_weather(city)\n",
        "    if not weather_data or 'current' not in weather_data:\n",
        "        print(f\"Unable to fetch weather data for {city}. Please check the city name and try again.\")\n",
        "        return False\n",
        "\n",
        "    # Extract location information\n",
        "    location = weather_data.get('location', {})\n",
        "    city_name = location.get('name', city)\n",
        "    country_name = location.get('country', 'Unknown')\n",
        "\n",
        "    # Extract weather information\n",
        "    temperature = weather_data['current'].get('temperature', 'N/A')\n",
        "    weather_description = weather_data['current'].get('weather_descriptions', ['N/A'])[0]\n",
        "\n",
        "    # Display location and weather information\n",
        "    print(\"\\n\" + \"=\"*50)\n",
        "    print(f\"Weather and Events for {city_name}, {country_name}\".center(50))\n",
        "    print(\"=\"*50)\n",
        "    print(f\"\\nCurrent weather:\")\n",
        "    print(f\"Temperature: {temperature}°C\")\n",
        "    print(f\"Conditions: {weather_description}\")\n",
        "\n",
        "    # Set date range for event search (next 7 days)\n",
        "    start_date = datetime.datetime.now().strftime(\"%Y-%m-%dT%H:%M:%SZ\")\n",
        "    end_date = (datetime.datetime.now() + datetime.timedelta(days=7)).strftime(\"%Y-%m-%dT%H:%M:%SZ\")\n",
        "\n",
        "    # Fetch event data\n",
        "    events = get_events(city, start_date, end_date)\n",
        "    if events and '_embedded' in events and 'events' in events['_embedded']:\n",
        "        print(\"\\nRecommended events:\")\n",
        "        print(\"-\"*50)\n",
        "        for i, event in enumerate(events['_embedded']['events'], 1):\n",
        "            name = event['name']\n",
        "            date = event['dates']['start']['localDate']\n",
        "            time = event['dates']['start'].get('localTime', 'Time not specified')\n",
        "            venue = event['_embedded']['venues'][0]['name']\n",
        "            print(f\"Event {i}:\")\n",
        "            print(f\"  Name: {name}\")\n",
        "            print(f\"  Date: {date}\")\n",
        "            print(f\"  Time: {time}\")\n",
        "            print(f\"  Venue: {venue}\")\n",
        "            print(\"-\"*50)\n",
        "    else:\n",
        "        print(\"\\nNo events found for the next 7 days.\")\n",
        "\n",
        "    return True\n",
        "\n",
        "#main execution\n",
        "if __name__ == \"__main__\":\n",
        "    while True:\n",
        "        city = input(\"Enter a city name: \").strip()\n",
        "        if weather_based_event_recommender(city):\n",
        "            break\n",
        "\n",
        "    print(\"\\nThank you for using the weather-based event recommender.\")\n",
        "\n"
      ]
    }
  ]
}